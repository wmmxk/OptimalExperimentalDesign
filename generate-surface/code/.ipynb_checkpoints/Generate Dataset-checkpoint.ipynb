{
 "cells": [
  {
   "cell_type": "code",
   "execution_count": 9,
   "metadata": {
    "collapsed": true
   },
   "outputs": [],
   "source": [
    "import utilis.funs as funs\n",
    "from config.boundaries import boundaries  # the ranges for each function\n",
    "from mpl_toolkits.mplot3d import Axes3D\n",
    "import matplotlib.pyplot as plt\n",
    "import numpy as np\n",
    "#%matplotlib inline"
   ]
  },
  {
   "cell_type": "code",
   "execution_count": 10,
   "metadata": {
    "collapsed": true
   },
   "outputs": [],
   "source": [
    "from utilis.GenerateData import GenerateData"
   ]
  },
  {
   "cell_type": "code",
   "execution_count": 11,
   "metadata": {
    "collapsed": true
   },
   "outputs": [],
   "source": [
    "import pandas as pd\n",
    "def wrapper(i):\n",
    "    fun = getattr(funs,\"f\"+str(i+1))\n",
    "    boundary = boundaries[i]\n",
    "    generateData = GenerateData(fun, boundary)\n",
    "    d3 = generateData.create()\n",
    "    df = pd.DataFrame(d3)\n",
    "    df.columns = ['x','y','z']\n",
    "    df = df.apply(lambda x: (x-x.min())/(x.max()-x.min()), axis=0)\n",
    "    return df"
   ]
  },
  {
   "cell_type": "code",
   "execution_count": 12,
   "metadata": {
    "collapsed": true
   },
   "outputs": [],
   "source": [
    "for i in range(0,4):\n",
    "    df = wrapper(i)\n",
    "    df.to_csv(\"../out_data/\"+str(i+1)+\".csv\",index = False)\n"
   ]
  },
  {
   "cell_type": "code",
   "execution_count": 13,
   "metadata": {
    "collapsed": true
   },
   "outputs": [],
   "source": [
    "i=4\n",
    "data = pd.read_csv(\"../out_data/\"+str(i)+\".csv\")\n"
   ]
  },
  {
   "cell_type": "code",
   "execution_count": 18,
   "metadata": {},
   "outputs": [],
   "source": [
    "for i in range(1,5):\n",
    "    data = pd.read_csv(\"../out_data/\"+str(i)+\".csv\")\n",
    "\n",
    "    fig = plt.figure()\n",
    "    ax = fig.gca(projection='3d')\n",
    "\n",
    "    ax.plot_trisurf(data.iloc[:,0], data.iloc[:,1], data.iloc[:,2], linewidth=0.2, antialiased=True)\n",
    "    #ax.scatter3D(x, y, z,c='r')\n",
    "#    plt.show()\n",
    "\n",
    "    fig.savefig('../out_fig/'+\"surface\"+str(i)+\".png\",bbox_inches = 'tight')"
   ]
  },
  {
   "cell_type": "code",
   "execution_count": null,
   "metadata": {
    "collapsed": true
   },
   "outputs": [],
   "source": []
  }
 ],
 "metadata": {
  "kernelspec": {
   "display_name": "Python 3",
   "language": "python",
   "name": "python3"
  },
  "language_info": {
   "codemirror_mode": {
    "name": "ipython",
    "version": 3
   },
   "file_extension": ".py",
   "mimetype": "text/x-python",
   "name": "python",
   "nbconvert_exporter": "python",
   "pygments_lexer": "ipython3",
   "version": "3.6.1"
  }
 },
 "nbformat": 4,
 "nbformat_minor": 2
}
