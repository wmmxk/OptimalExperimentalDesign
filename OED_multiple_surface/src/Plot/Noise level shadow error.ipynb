{
 "cells": [
  {
   "cell_type": "code",
   "execution_count": 1,
   "metadata": {
    "collapsed": true,
    "scrolled": true
   },
   "outputs": [],
   "source": [
    "from matplotlib import pyplot as pl\n",
    "import numpy as np\n",
    "#%matplotlib inline\n"
   ]
  },
  {
   "cell_type": "code",
   "execution_count": 2,
   "metadata": {
    "collapsed": true
   },
   "outputs": [],
   "source": [
    "import os\n",
    "project_dir = os.path.dirname(os.path.dirname(os.getcwd()))\n",
    "import pandas as pd\n"
   ]
  },
  {
   "cell_type": "code",
   "execution_count": 3,
   "metadata": {
    "collapsed": true
   },
   "outputs": [],
   "source": [
    "data_dir = project_dir+\"/results_BW\""
   ]
  },
  {
   "cell_type": "code",
   "execution_count": 9,
   "metadata": {
    "collapsed": true
   },
   "outputs": [],
   "source": [
    "data_ids = [i for i in range(1,4,1)]\n",
    "noise_levels = [i for i in range(0,12,2)]\n",
    "seeds = [i for i in range(1,4,1)]\n",
    "\n",
    "\n",
    "approaches = ['Random',\"EN\",\"MI\"]\n",
    "adds = [1,2,3]\n",
    "iterations = [180,90,60]\n",
    "\n",
    "linecolors = ['#CC4F1B','#1B2ACC','#3F7F4C']\n",
    "facecolors=['#FF9848','#089FFF','#7EFF99']\n"
   ]
  },
  {
   "cell_type": "code",
   "execution_count": 5,
   "metadata": {
    "collapsed": true
   },
   "outputs": [],
   "source": [
    "data_id = data_ids[0]\n",
    "noise_level = noise_levels[0]\n",
    "add = adds[2]\n",
    "iteration = iterations[2]\n",
    "approach = approaches[2]"
   ]
  },
  {
   "cell_type": "code",
   "execution_count": 6,
   "metadata": {},
   "outputs": [
    {
     "data": {
      "text/plain": [
       "'data_1_every_3_noise_0'"
      ]
     },
     "execution_count": 6,
     "metadata": {},
     "output_type": "execute_result"
    }
   ],
   "source": [
    "\"data_\"+str(data_id)+\"_every_\"+str(add)+\"_noise_\"+str(noise_level)"
   ]
  },
  {
   "cell_type": "code",
   "execution_count": 69,
   "metadata": {
    "collapsed": true
   },
   "outputs": [],
   "source": [
    "data_id = 2\n",
    "add = 1\n",
    "iteration = 180\n",
    "noise_level = 0\n",
    "seed = 1"
   ]
  },
  {
   "cell_type": "code",
   "execution_count": 70,
   "metadata": {
    "collapsed": true
   },
   "outputs": [],
   "source": [
    "\n",
    "folder = 'data_'+str(data_id)+\"_noise_\"+str(noise_level) + \"_seed_\" +str(seed)\n",
    "file_pathes = [data_dir + \"/\" +folder +'/' + approach +'/every_'+str(add)+\"_iter_\"+str(iteration)\n",
    "               +\".csv\" for approach in approaches]\n",
    "dfs = [pd.read_csv(file_path) for file_path in file_pathes]\n",
    "df = pd.concat(dfs, axis = 1)\n",
    "df[\"EN\"] = (df.iloc[:,1]-df.iloc[:,3])/df.iloc[:,1] *100\n",
    "df[\"MI\"] = (df.iloc[:,1]-df.iloc[:,5])/df.iloc[:,1] *100"
   ]
  },
  {
   "cell_type": "code",
   "execution_count": 75,
   "metadata": {},
   "outputs": [
    {
     "data": {
      "text/html": [
       "<div>\n",
       "<style>\n",
       "    .dataframe thead tr:only-child th {\n",
       "        text-align: right;\n",
       "    }\n",
       "\n",
       "    .dataframe thead th {\n",
       "        text-align: left;\n",
       "    }\n",
       "\n",
       "    .dataframe tbody tr th {\n",
       "        vertical-align: top;\n",
       "    }\n",
       "</style>\n",
       "<table border=\"1\" class=\"dataframe\">\n",
       "  <thead>\n",
       "    <tr style=\"text-align: right;\">\n",
       "      <th></th>\n",
       "      <th>nums</th>\n",
       "      <th>errors</th>\n",
       "      <th>nums</th>\n",
       "      <th>errors</th>\n",
       "      <th>nums</th>\n",
       "      <th>errors</th>\n",
       "      <th>EN</th>\n",
       "      <th>MI</th>\n",
       "    </tr>\n",
       "  </thead>\n",
       "  <tbody>\n",
       "    <tr>\n",
       "      <th>0</th>\n",
       "      <td>50</td>\n",
       "      <td>0.015052</td>\n",
       "      <td>50</td>\n",
       "      <td>0.015052</td>\n",
       "      <td>50</td>\n",
       "      <td>0.015052</td>\n",
       "      <td>0.000000</td>\n",
       "      <td>0.000000</td>\n",
       "    </tr>\n",
       "    <tr>\n",
       "      <th>1</th>\n",
       "      <td>51</td>\n",
       "      <td>0.009030</td>\n",
       "      <td>51</td>\n",
       "      <td>0.010140</td>\n",
       "      <td>51</td>\n",
       "      <td>0.010140</td>\n",
       "      <td>-12.290601</td>\n",
       "      <td>-12.290601</td>\n",
       "    </tr>\n",
       "    <tr>\n",
       "      <th>2</th>\n",
       "      <td>52</td>\n",
       "      <td>0.007802</td>\n",
       "      <td>52</td>\n",
       "      <td>0.006409</td>\n",
       "      <td>52</td>\n",
       "      <td>0.006409</td>\n",
       "      <td>17.859388</td>\n",
       "      <td>17.859388</td>\n",
       "    </tr>\n",
       "    <tr>\n",
       "      <th>3</th>\n",
       "      <td>53</td>\n",
       "      <td>0.008009</td>\n",
       "      <td>53</td>\n",
       "      <td>0.005638</td>\n",
       "      <td>53</td>\n",
       "      <td>0.005638</td>\n",
       "      <td>29.609531</td>\n",
       "      <td>29.609531</td>\n",
       "    </tr>\n",
       "    <tr>\n",
       "      <th>4</th>\n",
       "      <td>54</td>\n",
       "      <td>0.007853</td>\n",
       "      <td>54</td>\n",
       "      <td>0.005473</td>\n",
       "      <td>54</td>\n",
       "      <td>0.005482</td>\n",
       "      <td>30.309951</td>\n",
       "      <td>30.196170</td>\n",
       "    </tr>\n",
       "  </tbody>\n",
       "</table>\n",
       "</div>"
      ],
      "text/plain": [
       "   nums    errors  nums    errors  nums    errors         EN         MI\n",
       "0    50  0.015052    50  0.015052    50  0.015052   0.000000   0.000000\n",
       "1    51  0.009030    51  0.010140    51  0.010140 -12.290601 -12.290601\n",
       "2    52  0.007802    52  0.006409    52  0.006409  17.859388  17.859388\n",
       "3    53  0.008009    53  0.005638    53  0.005638  29.609531  29.609531\n",
       "4    54  0.007853    54  0.005473    54  0.005482  30.309951  30.196170"
      ]
     },
     "execution_count": 75,
     "metadata": {},
     "output_type": "execute_result"
    }
   ],
   "source": [
    "df.head()"
   ]
  },
  {
   "cell_type": "code",
   "execution_count": null,
   "metadata": {
    "collapsed": true
   },
   "outputs": [],
   "source": [
    "%matplotlib inline\n",
    "pl.plot(df.iloc[:138,0], df.iloc[:138,6], 'k', color=linecolors[k])\n",
    "            "
   ]
  },
  {
   "cell_type": "code",
   "execution_count": 77,
   "metadata": {
    "scrolled": true
   },
   "outputs": [
    {
     "data": {
      "text/plain": [
       "[<matplotlib.lines.Line2D at 0x7f91555167b8>]"
      ]
     },
     "execution_count": 77,
     "metadata": {},
     "output_type": "execute_result"
    },
    {
     "data": {
      "image/png": "[encoded data removed]",
      "text/plain": [
       "<matplotlib.figure.Figure at 0x7f91555c1e80>"
      ]
     },
     "metadata": {},
     "output_type": "display_data"
    }
   ],
   "source": [
    "%matplotlib inline\n",
    "pl.plot(df.iloc[:,0], df['EN'], 'k', color=linecolors[k])\n",
    "            "
   ]
  },
  {
   "cell_type": "code",
   "execution_count": 49,
   "metadata": {},
   "outputs": [
    {
     "data": {
      "text/html": [
       "<div>\n",
       "<style>\n",
       "    .dataframe thead tr:only-child th {\n",
       "        text-align: right;\n",
       "    }\n",
       "\n",
       "    .dataframe thead th {\n",
       "        text-align: left;\n",
       "    }\n",
       "\n",
       "    .dataframe tbody tr th {\n",
       "        vertical-align: top;\n",
       "    }\n",
       "</style>\n",
       "<table border=\"1\" class=\"dataframe\">\n",
       "  <thead>\n",
       "    <tr style=\"text-align: right;\">\n",
       "      <th></th>\n",
       "      <th>nums</th>\n",
       "      <th>errors</th>\n",
       "      <th>nums</th>\n",
       "      <th>errors</th>\n",
       "      <th>nums</th>\n",
       "      <th>errors</th>\n",
       "      <th>EN</th>\n",
       "    </tr>\n",
       "  </thead>\n",
       "  <tbody>\n",
       "    <tr>\n",
       "      <th>0</th>\n",
       "      <td>50</td>\n",
       "      <td>0.247949</td>\n",
       "      <td>50</td>\n",
       "      <td>0.247949</td>\n",
       "      <td>50</td>\n",
       "      <td>0.247949</td>\n",
       "      <td>0.000000</td>\n",
       "    </tr>\n",
       "    <tr>\n",
       "      <th>1</th>\n",
       "      <td>51</td>\n",
       "      <td>0.245971</td>\n",
       "      <td>51</td>\n",
       "      <td>0.239069</td>\n",
       "      <td>51</td>\n",
       "      <td>0.242308</td>\n",
       "      <td>0.013533</td>\n",
       "    </tr>\n",
       "    <tr>\n",
       "      <th>2</th>\n",
       "      <td>52</td>\n",
       "      <td>0.246269</td>\n",
       "      <td>52</td>\n",
       "      <td>0.238805</td>\n",
       "      <td>52</td>\n",
       "      <td>0.241578</td>\n",
       "      <td>0.014354</td>\n",
       "    </tr>\n",
       "    <tr>\n",
       "      <th>3</th>\n",
       "      <td>53</td>\n",
       "      <td>0.245286</td>\n",
       "      <td>53</td>\n",
       "      <td>0.241307</td>\n",
       "      <td>53</td>\n",
       "      <td>0.236196</td>\n",
       "      <td>0.007507</td>\n",
       "    </tr>\n",
       "    <tr>\n",
       "      <th>4</th>\n",
       "      <td>54</td>\n",
       "      <td>0.200138</td>\n",
       "      <td>54</td>\n",
       "      <td>0.233780</td>\n",
       "      <td>54</td>\n",
       "      <td>0.235733</td>\n",
       "      <td>-0.062299</td>\n",
       "    </tr>\n",
       "  </tbody>\n",
       "</table>\n",
       "</div>"
      ],
      "text/plain": [
       "   nums    errors  nums    errors  nums    errors        EN\n",
       "0    50  0.247949    50  0.247949    50  0.247949  0.000000\n",
       "1    51  0.245971    51  0.239069    51  0.242308  0.013533\n",
       "2    52  0.246269    52  0.238805    52  0.241578  0.014354\n",
       "3    53  0.245286    53  0.241307    53  0.236196  0.007507\n",
       "4    54  0.200138    54  0.233780    54  0.235733 -0.062299"
      ]
     },
     "execution_count": 49,
     "metadata": {},
     "output_type": "execute_result"
    }
   ],
   "source": [
    "df.head()"
   ]
  },
  {
   "cell_type": "code",
   "execution_count": 7,
   "metadata": {},
   "outputs": [
    {
     "name": "stderr",
     "output_type": "stream",
     "text": [
      "/home/wxk/anaconda2/envs/py3/lib/python3.6/site-packages/ipykernel_launcher.py:6: MatplotlibDeprecationWarning: pyplot.hold is deprecated.\n",
      "    Future behavior will be consistent with the long-time default:\n",
      "    plot commands add elements without first clearing the\n",
      "    Axes and/or Figure.\n",
      "  \n",
      "/home/wxk/anaconda2/envs/py3/lib/python3.6/site-packages/matplotlib/__init__.py:917: UserWarning: axes.hold is deprecated. Please remove it from your matplotlibrc and/or style files.\n",
      "  warnings.warn(self.msg_depr_set % key)\n",
      "/home/wxk/anaconda2/envs/py3/lib/python3.6/site-packages/matplotlib/rcsetup.py:152: UserWarning: axes.hold is deprecated, will be removed in 3.0\n",
      "  warnings.warn(\"axes.hold is deprecated, will be removed in 3.0\")\n",
      "/home/wxk/anaconda2/envs/py3/lib/python3.6/site-packages/ipykernel_launcher.py:17: DeprecationWarning: \n",
      ".ix is deprecated. Please use\n",
      ".loc for label based indexing or\n",
      ".iloc for positional indexing\n",
      "\n",
      "See the documentation here:\n",
      "http://pandas.pydata.org/pandas-docs/stable/indexing.html#deprecate_ix\n"
     ]
    }
   ],
   "source": [
    "data_id = 1\n",
    "for add,iteration in zip(adds,iterations):\n",
    "    for noise_level in noise_levels:\n",
    "        title = \"data_\"+str(data_id)+\"_every_\"+str(add)+\"_noise_\"+str(noise_level)\n",
    "        f = pl.figure()\n",
    "        pl.hold(1)\n",
    "        \n",
    "        for k, approach in enumerate(approaches):\n",
    "            folders = ['data_'+str(data_id)+\"_noise_\"+str(noise_level) + \"_seed_\" +str(seed) for seed in seeds]\n",
    "            file_pathes = [data_dir + \"/\" +folder +'/' + approach +'/every_'+str(add)+\"_iter_\"+str(iteration)\n",
    "                           +\".csv\" for folder in folders]\n",
    "            dfs = [pd.read_csv(file_path) for file_path in file_pathes]\n",
    "  \n",
    "            df = pd.concat(dfs, axis = 1)\n",
    "            df[approach] = df.apply(lambda x: np.mean(x[1::2]), axis=1)\n",
    "            df['std'] = df.apply(lambda x: np.std(x[1::2]), axis=1)\n",
    "            x = df.ix[:,0]\n",
    "            y = df[approach]\n",
    "            error = df['std']\n",
    "            pl.plot(x, y, 'k', color=linecolors[k])\n",
    "            pl.fill_between(x, y-error, y+error,alpha=0.2, edgecolor=facecolors[k], facecolor=facecolors[k])\n",
    "        pl.legend(loc=(0.7,0.7))\n",
    "        pl.title(title) \n",
    "        pl.xlabel(\"# of samples\")\n",
    "        pl.ylabel(\"Normalized MAE\")\n",
    "\n",
    "        axes = pl.gca()\n",
    "        axes.set_ylim([min(y)/2,y[0]])\n",
    "        f.savefig(os.path.join(project_dir,\"out_fig/Method\",title+\".jpg\"))"
   ]
  },
  {
   "cell_type": "code",
   "execution_count": 10,
   "metadata": {},
   "outputs": [
    {
     "name": "stderr",
     "output_type": "stream",
     "text": [
      "/home/wxk/anaconda2/envs/py3/lib/python3.6/site-packages/matplotlib/pyplot.py:524: RuntimeWarning: More than 20 figures have been opened. Figures created through the pyplot interface (`matplotlib.pyplot.figure`) are retained until explicitly closed and may consume too much memory. (To control this warning, see the rcParam `figure.max_open_warning`).\n",
      "  max_open_warning, RuntimeWarning)\n",
      "/home/wxk/anaconda2/envs/py3/lib/python3.6/site-packages/ipykernel_launcher.py:6: MatplotlibDeprecationWarning: pyplot.hold is deprecated.\n",
      "    Future behavior will be consistent with the long-time default:\n",
      "    plot commands add elements without first clearing the\n",
      "    Axes and/or Figure.\n",
      "  \n",
      "/home/wxk/anaconda2/envs/py3/lib/python3.6/site-packages/matplotlib/__init__.py:917: UserWarning: axes.hold is deprecated. Please remove it from your matplotlibrc and/or style files.\n",
      "  warnings.warn(self.msg_depr_set % key)\n",
      "/home/wxk/anaconda2/envs/py3/lib/python3.6/site-packages/matplotlib/rcsetup.py:152: UserWarning: axes.hold is deprecated, will be removed in 3.0\n",
      "  warnings.warn(\"axes.hold is deprecated, will be removed in 3.0\")\n",
      "/home/wxk/anaconda2/envs/py3/lib/python3.6/site-packages/ipykernel_launcher.py:21: DeprecationWarning: \n",
      ".ix is deprecated. Please use\n",
      ".loc for label based indexing or\n",
      ".iloc for positional indexing\n",
      "\n",
      "See the documentation here:\n",
      "http://pandas.pydata.org/pandas-docs/stable/indexing.html#deprecate_ix\n"
     ]
    },
    {
     "name": "stdout",
     "output_type": "stream",
     "text": [
      "missing: /home/wxk/Git/OED/OED_multiple_surface/results_BW/data_2_noise_0_seed_3/EN/every_1_iter_180.csv\n",
      "missing: /home/wxk/Git/OED/OED_multiple_surface/results_BW/data_2_noise_2_seed_3/MI/every_1_iter_180.csv\n",
      "missing: /home/wxk/Git/OED/OED_multiple_surface/results_BW/data_2_noise_6_seed_2/MI/every_1_iter_180.csv\n",
      "missing: /home/wxk/Git/OED/OED_multiple_surface/results_BW/data_2_noise_10_seed_2/Random/every_1_iter_180.csv\n",
      "missing: /home/wxk/Git/OED/OED_multiple_surface/results_BW/data_2_noise_10_seed_2/MI/every_1_iter_180.csv\n",
      "missing: /home/wxk/Git/OED/OED_multiple_surface/results_BW/data_3_noise_2_seed_3/Random/every_1_iter_180.csv\n",
      "missing: /home/wxk/Git/OED/OED_multiple_surface/results_BW/data_3_noise_2_seed_1/EN/every_1_iter_180.csv\n",
      "missing: /home/wxk/Git/OED/OED_multiple_surface/results_BW/data_3_noise_2_seed_3/MI/every_1_iter_180.csv\n",
      "missing: /home/wxk/Git/OED/OED_multiple_surface/results_BW/data_3_noise_4_seed_3/Random/every_1_iter_180.csv\n",
      "missing: /home/wxk/Git/OED/OED_multiple_surface/results_BW/data_3_noise_4_seed_3/EN/every_1_iter_180.csv\n",
      "missing: /home/wxk/Git/OED/OED_multiple_surface/results_BW/data_3_noise_4_seed_1/MI/every_1_iter_180.csv\n",
      "missing: /home/wxk/Git/OED/OED_multiple_surface/results_BW/data_3_noise_4_seed_3/MI/every_1_iter_180.csv\n",
      "missing: /home/wxk/Git/OED/OED_multiple_surface/results_BW/data_3_noise_6_seed_3/EN/every_1_iter_180.csv\n",
      "missing: /home/wxk/Git/OED/OED_multiple_surface/results_BW/data_3_noise_6_seed_3/MI/every_1_iter_180.csv\n",
      "missing: /home/wxk/Git/OED/OED_multiple_surface/results_BW/data_3_noise_10_seed_2/EN/every_1_iter_180.csv\n",
      "missing: /home/wxk/Git/OED/OED_multiple_surface/results_BW/data_3_noise_10_seed_1/MI/every_1_iter_180.csv\n",
      "missing: /home/wxk/Git/OED/OED_multiple_surface/results_BW/data_3_noise_10_seed_3/MI/every_1_iter_180.csv\n"
     ]
    }
   ],
   "source": [
    "for data_id in data_ids:\n",
    "    for add,iteration in zip(adds,iterations):\n",
    "        for noise_level in noise_levels:\n",
    "            title = \"data_\"+str(data_id)+\"_every_\"+str(add)+\"_noise_\"+str(noise_level)\n",
    "            f = pl.figure()\n",
    "            pl.hold(1)\n",
    "            for k, approach in enumerate(approaches):\n",
    "                folders = ['data_'+str(data_id)+\"_noise_\"+str(noise_level) + \"_seed_\" +str(seed) for seed in seeds]\n",
    "                file_pathes = [data_dir + \"/\" +folder +'/' + approach +'/every_'+str(add)+\"_iter_\"+str(iteration)\n",
    "                               +\".csv\" for folder in folders]\n",
    "                dfs = []\n",
    "                for file_path in file_pathes:\n",
    "                    try:\n",
    "                        dfs.append(pd.read_csv(file_path))\n",
    "                    except:\n",
    "                        print(\"missing:\",file_path)\n",
    "\n",
    "                df = pd.concat(dfs, axis = 1)\n",
    "                df[approach] = df.apply(lambda x: np.mean(x[1::2]), axis=1)\n",
    "                df['std'] = df.apply(lambda x: np.std(x[1::2]), axis=1)\n",
    "                x = df.ix[:,0]\n",
    "                y = df[approach]\n",
    "                error = df['std']\n",
    "                pl.plot(x, y, 'k', color=linecolors[k])\n",
    "                pl.fill_between(x, y-error, y+error,alpha=0.2, edgecolor=facecolors[k], facecolor=facecolors[k])\n",
    "            pl.legend(loc=(0.7,0.7))\n",
    "            pl.title(title) \n",
    "            pl.xlabel(\"# of samples\")\n",
    "            pl.ylabel(\"Normalized MAE\")\n",
    "            \n",
    "            axes = pl.gca()\n",
    "            axes.set_ylim([min(y)/2,y[0]])\n",
    "            f.savefig(os.path.join(project_dir,\"out_fig/Method\",title+\".jpg\"))"
   ]
  },
  {
   "cell_type": "code",
   "execution_count": null,
   "metadata": {
    "collapsed": true
   },
   "outputs": [],
   "source": [
    "df['test'] = df.apply(lambda x: np.mean(x[1::2]), axis=1)"
   ]
  },
  {
   "cell_type": "code",
   "execution_count": 55,
   "metadata": {
    "scrolled": true
   },
   "outputs": [
    {
     "data": {
      "text/html": [
       "<div>\n",
       "<style>\n",
       "    .dataframe thead tr:only-child th {\n",
       "        text-align: right;\n",
       "    }\n",
       "\n",
       "    .dataframe thead th {\n",
       "        text-align: left;\n",
       "    }\n",
       "\n",
       "    .dataframe tbody tr th {\n",
       "        vertical-align: top;\n",
       "    }\n",
       "</style>\n",
       "<table border=\"1\" class=\"dataframe\">\n",
       "  <thead>\n",
       "    <tr style=\"text-align: right;\">\n",
       "      <th></th>\n",
       "      <th>nums</th>\n",
       "      <th>errors</th>\n",
       "      <th>nums</th>\n",
       "      <th>errors</th>\n",
       "      <th>nums</th>\n",
       "      <th>errors</th>\n",
       "      <th>Random</th>\n",
       "      <th>std</th>\n",
       "    </tr>\n",
       "  </thead>\n",
       "  <tbody>\n",
       "    <tr>\n",
       "      <th>0</th>\n",
       "      <td>50</td>\n",
       "      <td>0.247949</td>\n",
       "      <td>50</td>\n",
       "      <td>0.236236</td>\n",
       "      <td>50</td>\n",
       "      <td>0.186749</td>\n",
       "      <td>0.223644</td>\n",
       "      <td>0.026524</td>\n",
       "    </tr>\n",
       "    <tr>\n",
       "      <th>1</th>\n",
       "      <td>51</td>\n",
       "      <td>0.245971</td>\n",
       "      <td>51</td>\n",
       "      <td>0.240573</td>\n",
       "      <td>51</td>\n",
       "      <td>0.188023</td>\n",
       "      <td>0.224855</td>\n",
       "      <td>0.026138</td>\n",
       "    </tr>\n",
       "    <tr>\n",
       "      <th>2</th>\n",
       "      <td>52</td>\n",
       "      <td>0.246269</td>\n",
       "      <td>52</td>\n",
       "      <td>0.236616</td>\n",
       "      <td>52</td>\n",
       "      <td>0.187020</td>\n",
       "      <td>0.223302</td>\n",
       "      <td>0.025956</td>\n",
       "    </tr>\n",
       "    <tr>\n",
       "      <th>3</th>\n",
       "      <td>53</td>\n",
       "      <td>0.245286</td>\n",
       "      <td>53</td>\n",
       "      <td>0.237261</td>\n",
       "      <td>53</td>\n",
       "      <td>0.181737</td>\n",
       "      <td>0.221428</td>\n",
       "      <td>0.028256</td>\n",
       "    </tr>\n",
       "    <tr>\n",
       "      <th>4</th>\n",
       "      <td>54</td>\n",
       "      <td>0.200138</td>\n",
       "      <td>54</td>\n",
       "      <td>0.236822</td>\n",
       "      <td>54</td>\n",
       "      <td>0.181274</td>\n",
       "      <td>0.206078</td>\n",
       "      <td>0.023063</td>\n",
       "    </tr>\n",
       "  </tbody>\n",
       "</table>\n",
       "</div>"
      ],
      "text/plain": [
       "   nums    errors  nums    errors  nums    errors    Random       std\n",
       "0    50  0.247949    50  0.236236    50  0.186749  0.223644  0.026524\n",
       "1    51  0.245971    51  0.240573    51  0.188023  0.224855  0.026138\n",
       "2    52  0.246269    52  0.236616    52  0.187020  0.223302  0.025956\n",
       "3    53  0.245286    53  0.237261    53  0.181737  0.221428  0.028256\n",
       "4    54  0.200138    54  0.236822    54  0.181274  0.206078  0.023063"
      ]
     },
     "execution_count": 55,
     "metadata": {},
     "output_type": "execute_result"
    }
   ],
   "source": [
    "df.head()"
   ]
  },
  {
   "cell_type": "code",
   "execution_count": 6,
   "metadata": {},
   "outputs": [
    {
     "name": "stderr",
     "output_type": "stream",
     "text": [
      "/home/wxk/anaconda2/envs/py3/lib/python3.6/site-packages/ipykernel_launcher.py:6: MatplotlibDeprecationWarning: pyplot.hold is deprecated.\n",
      "    Future behavior will be consistent with the long-time default:\n",
      "    plot commands add elements without first clearing the\n",
      "    Axes and/or Figure.\n",
      "  \n",
      "/home/wxk/anaconda2/envs/py3/lib/python3.6/site-packages/matplotlib/__init__.py:917: UserWarning: axes.hold is deprecated. Please remove it from your matplotlibrc and/or style files.\n",
      "  warnings.warn(self.msg_depr_set % key)\n",
      "/home/wxk/anaconda2/envs/py3/lib/python3.6/site-packages/matplotlib/rcsetup.py:152: UserWarning: axes.hold is deprecated, will be removed in 3.0\n",
      "  warnings.warn(\"axes.hold is deprecated, will be removed in 3.0\")\n",
      "/home/wxk/anaconda2/envs/py3/lib/python3.6/site-packages/ipykernel_launcher.py:19: DeprecationWarning: \n",
      ".ix is deprecated. Please use\n",
      ".loc for label based indexing or\n",
      ".iloc for positional indexing\n",
      "\n",
      "See the documentation here:\n",
      "http://pandas.pydata.org/pandas-docs/stable/indexing.html#deprecate_ix\n"
     ]
    },
    {
     "data": {
      "text/plain": [
       "<matplotlib.figure.Figure at 0x7f10b03c0320>"
      ]
     },
     "metadata": {},
     "output_type": "display_data"
    },
    {
     "data": {
      "text/plain": [
       "<matplotlib.figure.Figure at 0x7f10b03c07f0>"
      ]
     },
     "metadata": {},
     "output_type": "display_data"
    },
    {
     "data": {
      "text/plain": [
       "<matplotlib.figure.Figure at 0x7f10b03c0f60>"
      ]
     },
     "metadata": {},
     "output_type": "display_data"
    },
    {
     "data": {
      "text/plain": [
       "<matplotlib.figure.Figure at 0x7f10b039ce80>"
      ]
     },
     "metadata": {},
     "output_type": "display_data"
    },
    {
     "data": {
      "text/plain": [
       "<matplotlib.figure.Figure at 0x7f10b3872940>"
      ]
     },
     "metadata": {},
     "output_type": "display_data"
    },
    {
     "data": {
      "text/plain": [
       "<matplotlib.figure.Figure at 0x7f10b3ada1d0>"
      ]
     },
     "metadata": {},
     "output_type": "display_data"
    },
    {
     "data": {
      "text/plain": [
       "<matplotlib.figure.Figure at 0x7f10b003c2b0>"
      ]
     },
     "metadata": {},
     "output_type": "display_data"
    },
    {
     "data": {
      "text/plain": [
       "<matplotlib.figure.Figure at 0x7f10aff330f0>"
      ]
     },
     "metadata": {},
     "output_type": "display_data"
    },
    {
     "data": {
      "text/plain": [
       "<matplotlib.figure.Figure at 0x7f10afe99f60>"
      ]
     },
     "metadata": {},
     "output_type": "display_data"
    },
    {
     "data": {
      "text/plain": [
       "<matplotlib.figure.Figure at 0x7f10afea0d68>"
      ]
     },
     "metadata": {},
     "output_type": "display_data"
    },
    {
     "data": {
      "text/plain": [
       "<matplotlib.figure.Figure at 0x7f10afe1ca90>"
      ]
     },
     "metadata": {},
     "output_type": "display_data"
    },
    {
     "data": {
      "text/plain": [
       "<matplotlib.figure.Figure at 0x7f10afc76828>"
      ]
     },
     "metadata": {},
     "output_type": "display_data"
    },
    {
     "data": {
      "text/plain": [
       "<matplotlib.figure.Figure at 0x7f10afec2b00>"
      ]
     },
     "metadata": {},
     "output_type": "display_data"
    },
    {
     "data": {
      "text/plain": [
       "<matplotlib.figure.Figure at 0x7f10afcbb080>"
      ]
     },
     "metadata": {},
     "output_type": "display_data"
    },
    {
     "data": {
      "text/plain": [
       "<matplotlib.figure.Figure at 0x7f10affdd128>"
      ]
     },
     "metadata": {},
     "output_type": "display_data"
    },
    {
     "data": {
      "text/plain": [
       "<matplotlib.figure.Figure at 0x7f10b0001748>"
      ]
     },
     "metadata": {},
     "output_type": "display_data"
    },
    {
     "data": {
      "text/plain": [
       "<matplotlib.figure.Figure at 0x7f10b00e5d68>"
      ]
     },
     "metadata": {},
     "output_type": "display_data"
    },
    {
     "data": {
      "text/plain": [
       "<matplotlib.figure.Figure at 0x7f10b00ebf60>"
      ]
     },
     "metadata": {},
     "output_type": "display_data"
    },
    {
     "data": {
      "image/png": "[encoded data removed]",
      "text/plain": [
       "<matplotlib.figure.Figure at 0x7f10b00cca20>"
      ]
     },
     "metadata": {},
     "output_type": "display_data"
    }
   ],
   "source": [
    "for j in range(6):\n",
    "    for p in range(3):\n",
    "        title = \"BatchSize \"+str(adds[p])+\", noise level \"+str(noise_levels[j])\n",
    "        pl.clf()\n",
    "        f = pl.figure()\n",
    "        pl.hold(1)\n",
    "        for k in range(3):\n",
    "\n",
    "            file_pathes = [os.path.join(project_dir,\"out_data/previous\",\n",
    "                     \"errors\"+str(i)+\"real\"+\"noise\"+str(noise_levels[j]),\n",
    "                     approaches[k],\n",
    "                     \"every_\"+str(adds[p])+\"_\"+str(iterations[p])+\"_iter.csv\") for i in range(1,4)]\n",
    "\n",
    "            dfs = [pd.read_csv(file_path) for file_path in file_pathes]\n",
    "            df = pd.concat(dfs, axis = 1)\n",
    "            df[approaches[k]] = df.apply(lambda x: np.mean(x[1::2]), axis=1)\n",
    "            df['std'] = df.apply(lambda x: np.std(x[1::2]), axis=1)\n",
    "\n",
    "            x = df.ix[:,0]\n",
    "            if len(x)==80:\n",
    "                x = x*2\n",
    "            if len(x) == 32:\n",
    "                x = x*5\n",
    "            x +=20\n",
    "            y = df[approaches[k]]\n",
    "            error = df['std']\n",
    "\n",
    "\n",
    "            pl.plot(x, y, 'k', color=linecolors[k])\n",
    "            pl.fill_between(x, y-error, y+error,\n",
    "                alpha=0.2, edgecolor=facecolors[k], facecolor=facecolors[k])\n",
    "        pl.legend(loc=(0.7,0.7))\n",
    "        pl.xlabel(\"# of samples\")\n",
    "        pl.ylabel(\"Normalized MAE\")\n",
    "        pl.title(title)\n",
    "        f.savefig(os.path.join(project_dir,\"out_fig\",title+\".pdf\"))"
   ]
  },
  {
   "cell_type": "code",
   "execution_count": 127,
   "metadata": {},
   "outputs": [
    {
     "data": {
      "text/plain": [
       "'/home/wxk/OED_linux/out_fig/BatchSize_1noise_level18'"
      ]
     },
     "execution_count": 127,
     "metadata": {},
     "output_type": "execute_result"
    }
   ],
   "source": [
    "\n",
    "\n",
    "os.path.join(project_dir,\"out_fig\",\"BatchSize_\"+str(adds[p])+\"noise_level\"+str(noise_levels[j]))\n",
    "\n"
   ]
  },
  {
   "cell_type": "code",
   "execution_count": null,
   "metadata": {
    "collapsed": true
   },
   "outputs": [],
   "source": []
  },
  {
   "cell_type": "code",
   "execution_count": null,
   "metadata": {
    "collapsed": true,
    "scrolled": true
   },
   "outputs": [],
   "source": []
  },
  {
   "cell_type": "code",
   "execution_count": null,
   "metadata": {
    "collapsed": true
   },
   "outputs": [],
   "source": []
  }
 ],
 "metadata": {
  "kernelspec": {
   "display_name": "Python 3",
   "language": "python",
   "name": "python3"
  },
  "language_info": {
   "codemirror_mode": {
    "name": "ipython",
    "version": 3
   },
   "file_extension": ".py",
   "mimetype": "text/x-python",
   "name": "python",
   "nbconvert_exporter": "python",
   "pygments_lexer": "ipython3",
   "version": "3.6.1"
  }
 },
 "nbformat": 4,
 "nbformat_minor": 2
}
